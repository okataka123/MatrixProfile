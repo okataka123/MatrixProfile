{
 "cells": [
  {
   "cell_type": "markdown",
   "metadata": {},
   "source": [
    "# Notebook for studying the Matrix Profile\n",
    "\n",
    "#### [References]\n",
    "- Matrix Profile\n",
    " - https://stumpy.readthedocs.io/en/latest/Tutorial_The_Matrix_Profile.html\n",
    "    \n",
    "- STUMPY documentation:  \n",
    " - https://stumpy.readthedocs.io/en/latest/  \n",
    "\n",
    "- The Matrix Profile\n",
    " - https://stumpy.readthedocs.io/en/latest/Tutorial_The_Matrix_Profile.html\n",
    "\n",
    "- GitHub repository of stumpy\n",
    " - https://github.com/TDAmeritrade/stumpy"
   ]
  },
  {
   "cell_type": "markdown",
   "metadata": {},
   "source": [
    "---\n",
    "## z-normalized Euclidean distanceについて\n",
    "参考(Youtube)：[Time Series data Mining Using the Matrix Profile part 2](https://www.youtube.com/watch?v=LnQneYvg84M&t=374s)\n",
    "\n",
    "以下の2つの時系列 $\\boldsymbol{x}$, $\\boldsymbol{y}$ に対するz-normalized Euclidean distanceを考える。\n",
    "\n",
    "$$\n",
    "    \\boldsymbol{x} = x_{1}, x_{2}, \\cdots , x_{n} \\\\\n",
    "    \\boldsymbol{y} = y_{1}, y_{2}, \\cdots , y_{n} \\\\\n",
    "$$\n",
    "に対して、z-normalized Euclidean distance $d(\\boldsymbol{x}, \\boldsymbol{y})$ を以下で定義する。\n",
    "$$\n",
    "    d(\\boldsymbol{x}, \\boldsymbol{y}) := \\sqrt(\\sum_{i=1}^{n} (\\hat{x}_{i} - \\hat{y}_{i})^2)\n",
    "$$\n",
    "ただし、ここで $\\hat{x}_{i}$ および $\\hat{y}_{i}$ は\n",
    "\n",
    "$$\n",
    "    \\hat{x}_{i} = \\frac{x_{i}-\\mu_{x}}{\\sigma_{x}} \\\\\n",
    "    \\hat{y}_{i} = \\frac{y_{i}-\\mu_{x}}{\\sigma_{y}} \\\\\n",
    "$$\n",
    "であるとする。"
   ]
  },
  {
   "cell_type": "code",
   "execution_count": 1,
   "metadata": {},
   "outputs": [],
   "source": [
    "def xNorm(x):\n",
    "    return (x-np.mean(x))/np.std(x, 1)"
   ]
  },
  {
   "cell_type": "markdown",
   "metadata": {},
   "source": [
    "---\n",
    "# Confirmation of first example and its z-normalized Euclidean distance\n",
    "`stump`関数を使った場合のMatrix Profileが、直接z-normalized Euclidean distanceの定義を用いてsubsequence同士の距離を計算したものと一致することを確認する。"
   ]
  },
  {
   "cell_type": "code",
   "execution_count": 2,
   "metadata": {},
   "outputs": [],
   "source": [
    "import math\n",
    "import random\n",
    "import plotly.express as px\n",
    "import plotly.graph_objects as go\n",
    "import pandas as pd\n",
    "import numpy as np\n",
    "import stumpy "
   ]
  },
  {
   "cell_type": "code",
   "execution_count": 3,
   "metadata": {},
   "outputs": [],
   "source": [
    "time_series = np.array([0, 1, 3, 2, 9, 1, 14, 15, 1, 2, 2, 10, 7], dtype=float)\n",
    "n = len(time_series)"
   ]
  },
  {
   "cell_type": "markdown",
   "metadata": {},
   "source": [
    "### `stump`関数を使った場合"
   ]
  },
  {
   "cell_type": "code",
   "execution_count": 4,
   "metadata": {},
   "outputs": [
    {
     "data": {
      "text/html": [
       "<div>\n",
       "<style scoped>\n",
       "    .dataframe tbody tr th:only-of-type {\n",
       "        vertical-align: middle;\n",
       "    }\n",
       "\n",
       "    .dataframe tbody tr th {\n",
       "        vertical-align: top;\n",
       "    }\n",
       "\n",
       "    .dataframe thead th {\n",
       "        text-align: right;\n",
       "    }\n",
       "</style>\n",
       "<table border=\"1\" class=\"dataframe\">\n",
       "  <thead>\n",
       "    <tr style=\"text-align: right;\">\n",
       "      <th></th>\n",
       "      <th>0</th>\n",
       "      <th>1</th>\n",
       "      <th>2</th>\n",
       "      <th>3</th>\n",
       "    </tr>\n",
       "  </thead>\n",
       "  <tbody>\n",
       "    <tr>\n",
       "      <th>0</th>\n",
       "      <td>0.642486</td>\n",
       "      <td>9</td>\n",
       "      <td>-1</td>\n",
       "      <td>9</td>\n",
       "    </tr>\n",
       "    <tr>\n",
       "      <th>1</th>\n",
       "      <td>0.285705</td>\n",
       "      <td>8</td>\n",
       "      <td>-1</td>\n",
       "      <td>8</td>\n",
       "    </tr>\n",
       "    <tr>\n",
       "      <th>2</th>\n",
       "      <td>1.640169</td>\n",
       "      <td>9</td>\n",
       "      <td>0</td>\n",
       "      <td>9</td>\n",
       "    </tr>\n",
       "    <tr>\n",
       "      <th>3</th>\n",
       "      <td>0.898131</td>\n",
       "      <td>1</td>\n",
       "      <td>1</td>\n",
       "      <td>8</td>\n",
       "    </tr>\n",
       "    <tr>\n",
       "      <th>4</th>\n",
       "      <td>1.279547</td>\n",
       "      <td>9</td>\n",
       "      <td>0</td>\n",
       "      <td>9</td>\n",
       "    </tr>\n",
       "    <tr>\n",
       "      <th>5</th>\n",
       "      <td>1.781965</td>\n",
       "      <td>2</td>\n",
       "      <td>2</td>\n",
       "      <td>9</td>\n",
       "    </tr>\n",
       "    <tr>\n",
       "      <th>6</th>\n",
       "      <td>2.987226</td>\n",
       "      <td>3</td>\n",
       "      <td>3</td>\n",
       "      <td>8</td>\n",
       "    </tr>\n",
       "    <tr>\n",
       "      <th>7</th>\n",
       "      <td>2.839433</td>\n",
       "      <td>4</td>\n",
       "      <td>4</td>\n",
       "      <td>9</td>\n",
       "    </tr>\n",
       "    <tr>\n",
       "      <th>8</th>\n",
       "      <td>0.285705</td>\n",
       "      <td>1</td>\n",
       "      <td>1</td>\n",
       "      <td>-1</td>\n",
       "    </tr>\n",
       "    <tr>\n",
       "      <th>9</th>\n",
       "      <td>0.642486</td>\n",
       "      <td>0</td>\n",
       "      <td>0</td>\n",
       "      <td>-1</td>\n",
       "    </tr>\n",
       "  </tbody>\n",
       "</table>\n",
       "</div>"
      ],
      "text/plain": [
       "          0  1   2   3\n",
       "0  0.642486  9  -1   9\n",
       "1  0.285705  8  -1   8\n",
       "2  1.640169  9   0   9\n",
       "3  0.898131  1   1   8\n",
       "4  1.279547  9   0   9\n",
       "5  1.781965  2   2   9\n",
       "6  2.987226  3   3   8\n",
       "7  2.839433  4   4   9\n",
       "8  0.285705  1   1  -1\n",
       "9  0.642486  0   0  -1"
      ]
     },
     "metadata": {},
     "output_type": "display_data"
    }
   ],
   "source": [
    "window_size = 4\n",
    "matrix_profile = stumpy.stump(time_series, m=window_size)\n",
    "df_matrix_profile = pd.DataFrame(matrix_profile)\n",
    "display(df_matrix_profile)"
   ]
  },
  {
   "cell_type": "markdown",
   "metadata": {},
   "source": [
    "   ## z-normalized Euclidean distanceを手で計算"
   ]
  },
  {
   "cell_type": "code",
   "execution_count": 5,
   "metadata": {},
   "outputs": [],
   "source": [
    "def xNorm(x):\n",
    "    return (x-np.mean(x))/np.std(x, ddof=0)\n",
    "\n",
    "def EuclideanDistance(x, y):\n",
    "    return math.sqrt(sum(x-y)^2)"
   ]
  },
  {
   "cell_type": "code",
   "execution_count": 6,
   "metadata": {
    "scrolled": false
   },
   "outputs": [
    {
     "name": "stdout",
     "output_type": "stream",
     "text": [
      "ret = [ 6.8556546   1.41421356  6.164414    7.93725393 11.40175425 13.56465997\n",
      " 14.07124728 13.96424004  1.41421356  6.164414  ]\n"
     ]
    }
   ],
   "source": [
    "# w/o z-normalixed Euclidean distance\n",
    "window_size = 4\n",
    "ret = np.array([])\n",
    "for i in range(n-window_size+1):\n",
    "    tmp = np.array([])\n",
    "    for j in range(n-window_size+1):\n",
    "        diff = time_series[i:i+window_size]-time_series[j:j+window_size]\n",
    "        t = np.sqrt(np.dot(diff, diff))\n",
    "        tmp = np.append(tmp, t)\n",
    "    tmp = np.sort(tmp)\n",
    "    ret = np.append(ret, tmp[1])\n",
    "\n",
    "print('ret =', ret)"
   ]
  },
  {
   "cell_type": "markdown",
   "metadata": {},
   "source": [
    "上記のように、z-normalized Euclideanを考慮せずに計算すると、[Matrix Profile](https://stumpy.readthedocs.io/en/latest/Tutorial_The_Matrix_Profile.html)のページで算出されているMatrix Profileと同じものが得られる。"
   ]
  },
  {
   "cell_type": "code",
   "execution_count": 7,
   "metadata": {},
   "outputs": [
    {
     "name": "stdout",
     "output_type": "stream",
     "text": [
      "ret = [0.64248634 0.28570485 1.64016944 0.89813064 1.27954715 1.78196466\n",
      " 2.05831901 2.05831901 0.28570485 0.64248634]\n"
     ]
    }
   ],
   "source": [
    "# w/ z-normalixed Euclidean distance\n",
    "window_size = 4\n",
    "ret = np.array([])\n",
    "for i in range(n-window_size+1):\n",
    "    tmp = np.array([])\n",
    "    for j in range(n-window_size+1):\n",
    "        x_hat = xNorm(time_series[i:i+window_size])\n",
    "        y_hat = xNorm(time_series[j:j+window_size])\n",
    "        diff = x_hat - y_hat\n",
    "        t = np.sqrt(np.dot(diff, diff))\n",
    "        tmp = np.append(tmp, t)\n",
    "    tmp = np.sort(tmp)\n",
    "    ret = np.append(ret, tmp[1])\n",
    "\n",
    "print('ret =', ret)"
   ]
  },
  {
   "cell_type": "code",
   "execution_count": 8,
   "metadata": {},
   "outputs": [
    {
     "data": {
      "text/html": [
       "<div>\n",
       "<style scoped>\n",
       "    .dataframe tbody tr th:only-of-type {\n",
       "        vertical-align: middle;\n",
       "    }\n",
       "\n",
       "    .dataframe tbody tr th {\n",
       "        vertical-align: top;\n",
       "    }\n",
       "\n",
       "    .dataframe thead th {\n",
       "        text-align: right;\n",
       "    }\n",
       "</style>\n",
       "<table border=\"1\" class=\"dataframe\">\n",
       "  <thead>\n",
       "    <tr style=\"text-align: right;\">\n",
       "      <th></th>\n",
       "      <th>0</th>\n",
       "      <th>1</th>\n",
       "      <th>2</th>\n",
       "      <th>3</th>\n",
       "    </tr>\n",
       "  </thead>\n",
       "  <tbody>\n",
       "    <tr>\n",
       "      <th>0</th>\n",
       "      <td>0.642486</td>\n",
       "      <td>9</td>\n",
       "      <td>-1</td>\n",
       "      <td>9</td>\n",
       "    </tr>\n",
       "    <tr>\n",
       "      <th>1</th>\n",
       "      <td>0.285705</td>\n",
       "      <td>8</td>\n",
       "      <td>-1</td>\n",
       "      <td>8</td>\n",
       "    </tr>\n",
       "    <tr>\n",
       "      <th>2</th>\n",
       "      <td>1.640169</td>\n",
       "      <td>9</td>\n",
       "      <td>0</td>\n",
       "      <td>9</td>\n",
       "    </tr>\n",
       "    <tr>\n",
       "      <th>3</th>\n",
       "      <td>0.898131</td>\n",
       "      <td>1</td>\n",
       "      <td>1</td>\n",
       "      <td>8</td>\n",
       "    </tr>\n",
       "    <tr>\n",
       "      <th>4</th>\n",
       "      <td>1.279547</td>\n",
       "      <td>9</td>\n",
       "      <td>0</td>\n",
       "      <td>9</td>\n",
       "    </tr>\n",
       "    <tr>\n",
       "      <th>5</th>\n",
       "      <td>1.781965</td>\n",
       "      <td>2</td>\n",
       "      <td>2</td>\n",
       "      <td>9</td>\n",
       "    </tr>\n",
       "    <tr>\n",
       "      <th>6</th>\n",
       "      <td>2.987226</td>\n",
       "      <td>3</td>\n",
       "      <td>3</td>\n",
       "      <td>8</td>\n",
       "    </tr>\n",
       "    <tr>\n",
       "      <th>7</th>\n",
       "      <td>2.839433</td>\n",
       "      <td>4</td>\n",
       "      <td>4</td>\n",
       "      <td>9</td>\n",
       "    </tr>\n",
       "    <tr>\n",
       "      <th>8</th>\n",
       "      <td>0.285705</td>\n",
       "      <td>1</td>\n",
       "      <td>1</td>\n",
       "      <td>-1</td>\n",
       "    </tr>\n",
       "    <tr>\n",
       "      <th>9</th>\n",
       "      <td>0.642486</td>\n",
       "      <td>0</td>\n",
       "      <td>0</td>\n",
       "      <td>-1</td>\n",
       "    </tr>\n",
       "  </tbody>\n",
       "</table>\n",
       "</div>"
      ],
      "text/plain": [
       "          0  1   2   3\n",
       "0  0.642486  9  -1   9\n",
       "1  0.285705  8  -1   8\n",
       "2  1.640169  9   0   9\n",
       "3  0.898131  1   1   8\n",
       "4  1.279547  9   0   9\n",
       "5  1.781965  2   2   9\n",
       "6  2.987226  3   3   8\n",
       "7  2.839433  4   4   9\n",
       "8  0.285705  1   1  -1\n",
       "9  0.642486  0   0  -1"
      ]
     },
     "metadata": {},
     "output_type": "display_data"
    }
   ],
   "source": [
    "display(df_matrix_profile)"
   ]
  },
  {
   "cell_type": "markdown",
   "metadata": {},
   "source": [
    "よって、両者は一致！"
   ]
  },
  {
   "cell_type": "code",
   "execution_count": null,
   "metadata": {},
   "outputs": [],
   "source": []
  }
 ],
 "metadata": {
  "kernelspec": {
   "display_name": "Python 3",
   "language": "python",
   "name": "python3"
  },
  "language_info": {
   "codemirror_mode": {
    "name": "ipython",
    "version": 3
   },
   "file_extension": ".py",
   "mimetype": "text/x-python",
   "name": "python",
   "nbconvert_exporter": "python",
   "pygments_lexer": "ipython3",
   "version": "3.7.9"
  }
 },
 "nbformat": 4,
 "nbformat_minor": 4
}
